{
  "nbformat": 4,
  "nbformat_minor": 0,
  "metadata": {
    "colab": {
      "provenance": []
    },
    "kernelspec": {
      "name": "python3",
      "display_name": "Python 3"
    },
    "language_info": {
      "name": "python"
    }
  },
  "cells": [
    {
      "cell_type": "code",
      "execution_count": 5,
      "metadata": {
        "colab": {
          "base_uri": "https://localhost:8080/"
        },
        "id": "0OZOOip5uKIj",
        "outputId": "04e61b2e-cff1-43d6-82e4-d9c5ddb916cb"
      },
      "outputs": [
        {
          "output_type": "stream",
          "name": "stdout",
          "text": [
            "4\n",
            "7\n",
            "2\n",
            "15\n",
            "5\n",
            "0\n"
          ]
        }
      ],
      "source": [
        "def max_panels_amount(a: int, b: int, x: int, y: int) -> int:\n",
        "    \"\"\"\n",
        "    Calcula la cantidad máxima de paneles solares que caben en un techo.\n",
        "\n",
        "    Parámetros:\n",
        "    a, b: int = Dimensiones del panel solar.\n",
        "    x, y: int = Dimensiones del techo.\n",
        "\n",
        "    Retorna -> int:\n",
        "    El número máximo de paneles que se pueden colocar.\n",
        "    \"\"\"\n",
        "\n",
        "\n",
        "    # Primera orientación\n",
        "\n",
        "\n",
        "    # PASO 1: Primer \"llenado\"\n",
        "    first_fit_1 = x // b\n",
        "    second_fit_1 = y // a\n",
        "    total_1 = first_fit_1 * second_fit_1\n",
        "\n",
        "    # PASO 2: Lo que falta se rellena con la figura rotada\n",
        "    # 2.1 Cuando queda un espacio a la derecha\n",
        "    remaining_width_1 = x % b\n",
        "    option1_extra_fit_1 = (remaining_width_1 // a) * (y // b)\n",
        "\n",
        "    # 2.2 Cuando queda un espacio abajo\n",
        "    remaining_height_1 = y % a\n",
        "    option2_extra_fit_1 = (remaining_height_1 // b) * (x // a)\n",
        "\n",
        "\n",
        "    total_1 += (option1_extra_fit_1 + option2_extra_fit_1)\n",
        "\n",
        "\n",
        "    # Segunda orientación\n",
        "\n",
        "\n",
        "    # PASO 1: Primer \"llenado\"\n",
        "    first_fit_2 = x // a\n",
        "    second_fit_2 = y // b\n",
        "    total_2 = first_fit_2 * second_fit_2\n",
        "\n",
        "    # PASO 2: Lo que falta se rellena con la figura rotada\n",
        "    # 2.1 Cuando queda un espacio a la derecha\n",
        "    remaining_width_2 = x % a\n",
        "    option1_extra_fit_2 = (remaining_width_2 // b) * (y // a)\n",
        "\n",
        "    # 2.2 Cuando queda un espacio abajo\n",
        "    remaining_height_2 = y % b\n",
        "    option2_extra_fit_2 = (remaining_height_2 // a) * (x // b)\n",
        "\n",
        "\n",
        "    total_2 += (option1_extra_fit_2 + option2_extra_fit_2)\n",
        "\n",
        "\n",
        "    return max(total_1, total_2)\n",
        "\n",
        "\n",
        "# Tests\n",
        "print(max_panels_amount(1, 2, 2, 4))  # Output: 4\n",
        "print(max_panels_amount(2, 1, 5, 3))  # Output: 7\n",
        "print(max_panels_amount(2, 2, 5, 3))  # Output: 2\n",
        "print(max_panels_amount(1, 1, 5, 3))  # Output: 15\n",
        "print(max_panels_amount(3, 1, 5, 3))  # Output: 5\n",
        "print(max_panels_amount(2, 2, 1, 10))  # Output: 0"
      ]
    }
  ]
}